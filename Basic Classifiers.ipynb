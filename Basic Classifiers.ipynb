{
 "cells": [
  {
   "cell_type": "code",
   "execution_count": 33,
   "metadata": {},
   "outputs": [],
   "source": [
    "from sklearn import tree\n",
    "from sklearn import svm\n",
    "from sklearn import linear_model\n",
    "from sklearn import neighbors\n",
    "from sklearn import naive_bayes\n",
    "\n",
    "from sklearn.metrics import accuracy_score\n",
    "import numpy as np"
   ]
  },
  {
   "cell_type": "code",
   "execution_count": 34,
   "metadata": {},
   "outputs": [],
   "source": [
    "X = [[181, 80, 44], [177, 70, 43], [160, 60, 38], [154, 54, 37], [166, 65, 40],\n",
    "     [190, 90, 47], [175, 64, 39],\n",
    "     [177, 70, 40], [159, 55, 37], [171, 75, 42], [181, 85, 43]]\n",
    "\n",
    "Y = ['male', 'male', 'female', 'female', 'male', 'male', 'female', 'female',\n",
    "     'female', 'male', 'male']\n",
    "\n",
    "_X = [[184,84,44],[198,92,48],[183,83,44],[166,47,36],[170,60,38],[172,64,39],[182,80,42],[180,80,43]]\n",
    "\n",
    "_Y = ['male','male','male','female','female','female','male','male']\n"
   ]
  },
  {
   "cell_type": "code",
   "execution_count": 37,
   "metadata": {},
   "outputs": [
    {
     "name": "stdout",
     "output_type": "stream",
     "text": [
      "Accuracy for DecisionTreeClassifier  = 100.0\n",
      "Accuracy for ExtraTreeClassifier  = 87.5\n",
      "Accuracy for SVC  = 62.5\n",
      "Accuracy for linear_model  = 62.5\n",
      "Accuracy for KNeighborsClassifier  = 87.5\n",
      "Accuracy for GaussianNB  = 100.0\n"
     ]
    },
    {
     "name": "stderr",
     "output_type": "stream",
     "text": [
      "C:\\Users\\parth\\Anaconda3\\lib\\site-packages\\sklearn\\linear_model\\stochastic_gradient.py:128: FutureWarning: max_iter and tol parameters have been added in <class 'sklearn.linear_model.perceptron.Perceptron'> in 0.19. If both are left unset, they default to max_iter=5 and tol=None. If tol is not None, max_iter defaults to max_iter=1000. From 0.21, default max_iter will be 1000, and default tol will be 1e-3.\n",
      "  \"and default tol will be 1e-3.\" % type(self), FutureWarning)\n"
     ]
    }
   ],
   "source": [
    "clf1 = tree.DecisionTreeClassifier()\n",
    "clf2 = tree.ExtraTreeClassifier()\n",
    "clf3 = svm.SVC()\n",
    "clf4 = linear_model.Perceptron()\n",
    "clf5 = neighbors.KNeighborsClassifier()\n",
    "clf6 = naive_bayes.GaussianNB()\n",
    "\n",
    "list = [clf1,clf2,clf3,clf4,clf5,clf6]\n",
    "list_names = [\"DecisionTreeClassifier\",\"ExtraTreeClassifier\",\"SVC\",\"linear_model\",\"KNeighborsClassifier\",\"GaussianNB\"]\n",
    "\n",
    "for i in range(len(list)):\n",
    "    prediction = (list[i].fit(X,Y)).predict(_X)\n",
    "    acc_tree = accuracy_score(_Y, prediction) * 100\n",
    "    print('Accuracy for',str(list_names[i]),\" =\",acc_tree)\n"
   ]
  },
  {
   "cell_type": "code",
   "execution_count": null,
   "metadata": {},
   "outputs": [],
   "source": []
  }
 ],
 "metadata": {
  "kernelspec": {
   "display_name": "Python 3",
   "language": "python",
   "name": "python3"
  },
  "language_info": {
   "codemirror_mode": {
    "name": "ipython",
    "version": 3
   },
   "file_extension": ".py",
   "mimetype": "text/x-python",
   "name": "python",
   "nbconvert_exporter": "python",
   "pygments_lexer": "ipython3",
   "version": "3.6.3"
  }
 },
 "nbformat": 4,
 "nbformat_minor": 2
}
